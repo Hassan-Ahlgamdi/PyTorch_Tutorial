{
  "nbformat": 4,
  "nbformat_minor": 0,
  "metadata": {
    "colab": {
      "provenance": [],
      "collapsed_sections": [
        "lXNpOYabA4UP",
        "nZho7vkmA-li",
        "-nhGIuYBD7hj",
        "a36k-NqVEexr",
        "Ht8bDiSjGYVz",
        "Ep7hubkyMlPc",
        "tJHIJJ1h83qh",
        "IvQG4i1-Gtpd",
        "h_mkPyEKJtC2"
      ]
    },
    "kernelspec": {
      "name": "python3",
      "display_name": "Python 3"
    },
    "language_info": {
      "name": "python"
    }
  },
  "cells": [
    {
      "cell_type": "code",
      "execution_count": null,
      "metadata": {
        "id": "A6hCwXoj1Enk"
      },
      "outputs": [],
      "source": [
        "import torch\n",
        "import numpy as np\n",
        "import pandas as pd\n",
        "import matplotlib.pyplot as plt\n",
        "import seaborn as sns"
      ]
    },
    {
      "cell_type": "code",
      "source": [
        "!nvidia-smi\n"
      ],
      "metadata": {
        "colab": {
          "base_uri": "https://localhost:8080/"
        },
        "id": "mR-hWGTS1ZI9",
        "outputId": "fa3973af-63a3-4596-f0c0-e5bcbb476ada"
      },
      "execution_count": null,
      "outputs": [
        {
          "output_type": "stream",
          "name": "stdout",
          "text": [
            "Sun Dec 29 19:12:56 2024       \n",
            "+---------------------------------------------------------------------------------------+\n",
            "| NVIDIA-SMI 535.104.05             Driver Version: 535.104.05   CUDA Version: 12.2     |\n",
            "|-----------------------------------------+----------------------+----------------------+\n",
            "| GPU  Name                 Persistence-M | Bus-Id        Disp.A | Volatile Uncorr. ECC |\n",
            "| Fan  Temp   Perf          Pwr:Usage/Cap |         Memory-Usage | GPU-Util  Compute M. |\n",
            "|                                         |                      |               MIG M. |\n",
            "|=========================================+======================+======================|\n",
            "|   0  Tesla T4                       Off | 00000000:00:04.0 Off |                    0 |\n",
            "| N/A   44C    P8              12W /  70W |      0MiB / 15360MiB |      0%      Default |\n",
            "|                                         |                      |                  N/A |\n",
            "+-----------------------------------------+----------------------+----------------------+\n",
            "                                                                                         \n",
            "+---------------------------------------------------------------------------------------+\n",
            "| Processes:                                                                            |\n",
            "|  GPU   GI   CI        PID   Type   Process name                            GPU Memory |\n",
            "|        ID   ID                                                             Usage      |\n",
            "|=======================================================================================|\n",
            "|  No running processes found                                                           |\n",
            "+---------------------------------------------------------------------------------------+\n"
          ]
        }
      ]
    },
    {
      "cell_type": "code",
      "source": [
        "torch.__version__"
      ],
      "metadata": {
        "colab": {
          "base_uri": "https://localhost:8080/",
          "height": 35
        },
        "id": "EFBUk_H21fC6",
        "outputId": "2f30237a-1152-4089-c982-6c33e0bf1594"
      },
      "execution_count": null,
      "outputs": [
        {
          "output_type": "execute_result",
          "data": {
            "text/plain": [
              "'2.5.1+cu121'"
            ],
            "application/vnd.google.colaboratory.intrinsic+json": {
              "type": "string"
            }
          },
          "metadata": {},
          "execution_count": 3
        }
      ]
    },
    {
      "cell_type": "markdown",
      "source": [
        "## Introduction to tensors"
      ],
      "metadata": {
        "id": "lXNpOYabA4UP"
      }
    },
    {
      "cell_type": "code",
      "source": [
        "first_tensor = torch.tensor(5)\n",
        "first_tensor"
      ],
      "metadata": {
        "colab": {
          "base_uri": "https://localhost:8080/"
        },
        "id": "vkWYmVOq1qor",
        "outputId": "564baea2-9256-4180-f07d-39163ca65ea6"
      },
      "execution_count": null,
      "outputs": [
        {
          "output_type": "execute_result",
          "data": {
            "text/plain": [
              "tensor(5)"
            ]
          },
          "metadata": {},
          "execution_count": 4
        }
      ]
    },
    {
      "cell_type": "code",
      "source": [
        "first_tensor.ndim"
      ],
      "metadata": {
        "colab": {
          "base_uri": "https://localhost:8080/"
        },
        "id": "GXe6zBb21xvj",
        "outputId": "693e03fc-c0f4-4bb5-8df0-1865b08278f8"
      },
      "execution_count": null,
      "outputs": [
        {
          "output_type": "execute_result",
          "data": {
            "text/plain": [
              "0"
            ]
          },
          "metadata": {},
          "execution_count": 36
        }
      ]
    },
    {
      "cell_type": "code",
      "source": [
        "t2 = torch.tensor([1,2,3])\n",
        "t2"
      ],
      "metadata": {
        "colab": {
          "base_uri": "https://localhost:8080/"
        },
        "id": "EPUFc9jq1z0z",
        "outputId": "045748c2-4949-4858-cf67-80cf762d3734"
      },
      "execution_count": null,
      "outputs": [
        {
          "output_type": "execute_result",
          "data": {
            "text/plain": [
              "tensor([1, 2, 3])"
            ]
          },
          "metadata": {},
          "execution_count": 6
        }
      ]
    },
    {
      "cell_type": "code",
      "source": [
        "t2.add(torch.tensor([1,2,3]))"
      ],
      "metadata": {
        "colab": {
          "base_uri": "https://localhost:8080/"
        },
        "id": "1rv4s94K14kr",
        "outputId": "aed4bc01-6c91-4a09-fb6a-c6c560894676"
      },
      "execution_count": null,
      "outputs": [
        {
          "output_type": "execute_result",
          "data": {
            "text/plain": [
              "tensor([2, 4, 6])"
            ]
          },
          "metadata": {},
          "execution_count": 12
        }
      ]
    },
    {
      "cell_type": "code",
      "source": [
        "t2.shape, t2.ndim, t2.dtype"
      ],
      "metadata": {
        "colab": {
          "base_uri": "https://localhost:8080/"
        },
        "id": "vD24gKzb16uq",
        "outputId": "d438745d-8cad-4ff4-c64a-c5656b8d71cc"
      },
      "execution_count": null,
      "outputs": [
        {
          "output_type": "execute_result",
          "data": {
            "text/plain": [
              "(torch.Size([3]), 1, torch.int64)"
            ]
          },
          "metadata": {},
          "execution_count": 37
        }
      ]
    },
    {
      "cell_type": "code",
      "source": [
        "t3 = torch.tensor([\n",
        "    [1,2,3],\n",
        "    [4,5,6],\n",
        "    [7,8,9]\n",
        "])\n",
        "t3"
      ],
      "metadata": {
        "colab": {
          "base_uri": "https://localhost:8080/"
        },
        "id": "dB8tO-FM2aSV",
        "outputId": "fa18615a-b5b6-41f2-cfa9-77b326519511"
      },
      "execution_count": null,
      "outputs": [
        {
          "output_type": "execute_result",
          "data": {
            "text/plain": [
              "tensor([[1, 2, 3],\n",
              "        [4, 5, 6],\n",
              "        [7, 8, 9]])"
            ]
          },
          "metadata": {},
          "execution_count": 22
        }
      ]
    },
    {
      "cell_type": "code",
      "source": [
        "t3[0],t3[1],t3[2]"
      ],
      "metadata": {
        "colab": {
          "base_uri": "https://localhost:8080/"
        },
        "id": "agBYZiqD-baf",
        "outputId": "aa0cd456-8622-44fd-c9cd-e68f3c68d55d"
      },
      "execution_count": null,
      "outputs": [
        {
          "output_type": "execute_result",
          "data": {
            "text/plain": [
              "(tensor([1, 2, 3]), tensor([4, 5, 6]), tensor([7, 8, 9]))"
            ]
          },
          "metadata": {},
          "execution_count": 41
        }
      ]
    },
    {
      "cell_type": "code",
      "source": [
        "t3.shape, t3.ndim, t3.dtype"
      ],
      "metadata": {
        "colab": {
          "base_uri": "https://localhost:8080/"
        },
        "id": "ilMnjG_52037",
        "outputId": "496aec8c-5a81-434e-e05d-0352841ec5c2"
      },
      "execution_count": null,
      "outputs": [
        {
          "output_type": "execute_result",
          "data": {
            "text/plain": [
              "(torch.Size([3, 3]), 2, torch.int64)"
            ]
          },
          "metadata": {},
          "execution_count": 38
        }
      ]
    },
    {
      "cell_type": "code",
      "source": [
        "t3.diag()"
      ],
      "metadata": {
        "colab": {
          "base_uri": "https://localhost:8080/"
        },
        "id": "fotDQWRb29Lj",
        "outputId": "8627b654-9687-427c-9dde-0c9e8e5b10bd"
      },
      "execution_count": null,
      "outputs": [
        {
          "output_type": "execute_result",
          "data": {
            "text/plain": [
              "tensor([1, 5, 9])"
            ]
          },
          "metadata": {},
          "execution_count": 25
        }
      ]
    },
    {
      "cell_type": "code",
      "source": [
        "t3.t()"
      ],
      "metadata": {
        "colab": {
          "base_uri": "https://localhost:8080/"
        },
        "id": "QMjw8bGs3A3L",
        "outputId": "2eb9c8c2-c916-4906-bdd4-702783c12e2c"
      },
      "execution_count": null,
      "outputs": [
        {
          "output_type": "execute_result",
          "data": {
            "text/plain": [
              "tensor([[1, 4, 7],\n",
              "        [2, 5, 8],\n",
              "        [3, 6, 9]])"
            ]
          },
          "metadata": {},
          "execution_count": 27
        }
      ]
    },
    {
      "cell_type": "code",
      "source": [
        "t3.transpose(0,1)"
      ],
      "metadata": {
        "colab": {
          "base_uri": "https://localhost:8080/"
        },
        "id": "i2SrMln73EbT",
        "outputId": "d1a017c6-80e0-4d3a-a224-818316967ed1"
      },
      "execution_count": null,
      "outputs": [
        {
          "output_type": "execute_result",
          "data": {
            "text/plain": [
              "tensor([[1, 4, 7],\n",
              "        [2, 5, 8],\n",
              "        [3, 6, 9]])"
            ]
          },
          "metadata": {},
          "execution_count": 28
        }
      ]
    },
    {
      "cell_type": "code",
      "source": [
        "t4 = torch.randn(3,3,3)\n",
        "t4"
      ],
      "metadata": {
        "colab": {
          "base_uri": "https://localhost:8080/"
        },
        "id": "K-ZNr5Bv3fUl",
        "outputId": "a78b2bb9-addb-4940-c32f-cd98b5188037"
      },
      "execution_count": null,
      "outputs": [
        {
          "output_type": "execute_result",
          "data": {
            "text/plain": [
              "tensor([[[ 1.0782,  0.6336,  0.4027],\n",
              "         [ 0.3994,  0.7196, -0.2171],\n",
              "         [-1.6673, -0.0961, -1.1533]],\n",
              "\n",
              "        [[-0.3125,  0.2146, -1.2940],\n",
              "         [-0.7830,  0.5406, -1.5510],\n",
              "         [-0.1699, -0.5975,  0.2009]],\n",
              "\n",
              "        [[-0.4487, -0.0146,  0.9079],\n",
              "         [-0.9526,  0.3616, -0.0960],\n",
              "         [ 0.5605, -0.5726,  0.0967]]])"
            ]
          },
          "metadata": {},
          "execution_count": 29
        }
      ]
    },
    {
      "cell_type": "code",
      "source": [
        "t4.shape , t4.ndim"
      ],
      "metadata": {
        "colab": {
          "base_uri": "https://localhost:8080/"
        },
        "id": "11Y9bObr3noG",
        "outputId": "73ddfbc8-6b7e-4d7e-c62f-38d75bd325af"
      },
      "execution_count": null,
      "outputs": [
        {
          "output_type": "execute_result",
          "data": {
            "text/plain": [
              "(torch.Size([3, 3, 3]), 3)"
            ]
          },
          "metadata": {},
          "execution_count": 39
        }
      ]
    },
    {
      "cell_type": "code",
      "source": [
        "for i in range(0,t4.shape[0]): # looping throw every MATRIX\n",
        "  print(f\"For MATRIX {i+1}: \")\n",
        "  for j in range(0,t4.shape[1]): # looping throw every vector in i'th MATRIX\n",
        "    print(f\"\\tThe {j+1} Vector is : \", end=\"\")\n",
        "    print(t4[i][j])"
      ],
      "metadata": {
        "colab": {
          "base_uri": "https://localhost:8080/"
        },
        "id": "L_yc0Cz63q8j",
        "outputId": "dadec508-2ab5-458b-d5a8-ae8715e52377"
      },
      "execution_count": null,
      "outputs": [
        {
          "output_type": "stream",
          "name": "stdout",
          "text": [
            "For MATRIX 1: \n",
            "\tThe 1 Vector is : tensor([1.0782, 0.6336, 0.4027])\n",
            "\tThe 2 Vector is : tensor([ 0.3994,  0.7196, -0.2171])\n",
            "\tThe 3 Vector is : tensor([-1.6673, -0.0961, -1.1533])\n",
            "For MATRIX 2: \n",
            "\tThe 1 Vector is : tensor([-0.3125,  0.2146, -1.2940])\n",
            "\tThe 2 Vector is : tensor([-0.7830,  0.5406, -1.5510])\n",
            "\tThe 3 Vector is : tensor([-0.1699, -0.5975,  0.2009])\n",
            "For MATRIX 3: \n",
            "\tThe 1 Vector is : tensor([-0.4487, -0.0146,  0.9079])\n",
            "\tThe 2 Vector is : tensor([-0.9526,  0.3616, -0.0960])\n",
            "\tThe 3 Vector is : tensor([ 0.5605, -0.5726,  0.0967])\n"
          ]
        }
      ]
    },
    {
      "cell_type": "code",
      "source": [],
      "metadata": {
        "id": "eXLZaOs-3t8E"
      },
      "execution_count": null,
      "outputs": []
    },
    {
      "cell_type": "markdown",
      "source": [
        "## Random tensors\n",
        "\n",
        "Why Random tensors ?\n",
        "\n",
        "Random tensors are the way neural networks learn, they start with tensors full of random numbers and then adjust the number based on the data.\n",
        "\n",
        "`Start with Random tensors -> repeat: ( look at data -> update random numbers)`"
      ],
      "metadata": {
        "id": "nZho7vkmA-li"
      }
    },
    {
      "cell_type": "code",
      "source": [
        "random_tensor = torch.rand(3,4)\n",
        "random_tensor"
      ],
      "metadata": {
        "colab": {
          "base_uri": "https://localhost:8080/"
        },
        "id": "Bz9fWxwkBAV7",
        "outputId": "221d5e66-1b05-4d8c-f4a3-d891c3fa77ac"
      },
      "execution_count": null,
      "outputs": [
        {
          "output_type": "execute_result",
          "data": {
            "text/plain": [
              "tensor([[0.9590, 0.1246, 0.7662, 0.9226],\n",
              "        [0.7695, 0.3338, 0.0091, 0.3301],\n",
              "        [0.9678, 0.6335, 0.4806, 0.4346]])"
            ]
          },
          "metadata": {},
          "execution_count": 2
        }
      ]
    },
    {
      "cell_type": "code",
      "source": [
        "random_tensor.ndim"
      ],
      "metadata": {
        "colab": {
          "base_uri": "https://localhost:8080/"
        },
        "id": "LPHETUsjBCSi",
        "outputId": "8feb2c59-d6ab-4b3c-af95-f5f8d0afa94d"
      },
      "execution_count": null,
      "outputs": [
        {
          "output_type": "execute_result",
          "data": {
            "text/plain": [
              "2"
            ]
          },
          "metadata": {},
          "execution_count": 3
        }
      ]
    },
    {
      "cell_type": "code",
      "source": [
        "# Random tensor with similar shape to an image\n",
        "random_image_tensor = torch.rand(size=(224,224,3)) # height, width, color channels (R,G,B)\n",
        "random_image_tensor.shape, random_image_tensor.ndim"
      ],
      "metadata": {
        "colab": {
          "base_uri": "https://localhost:8080/"
        },
        "id": "-2-m071pCORU",
        "outputId": "8cbd4f38-a467-4b5f-a081-2a9f2c3080a6"
      },
      "execution_count": null,
      "outputs": [
        {
          "output_type": "execute_result",
          "data": {
            "text/plain": [
              "(torch.Size([224, 224, 3]), 3)"
            ]
          },
          "metadata": {},
          "execution_count": 4
        }
      ]
    },
    {
      "cell_type": "code",
      "source": [],
      "metadata": {
        "id": "nErYYLh7CvPn"
      },
      "execution_count": null,
      "outputs": []
    },
    {
      "cell_type": "markdown",
      "source": [
        "## Zeros and ones tensors"
      ],
      "metadata": {
        "id": "-nhGIuYBD7hj"
      }
    },
    {
      "cell_type": "code",
      "source": [
        "zeros = torch.zeros(size=(3,3)) # pick and size\n",
        "zeros"
      ],
      "metadata": {
        "colab": {
          "base_uri": "https://localhost:8080/"
        },
        "id": "zvPx0pzWD-Xj",
        "outputId": "8729253d-abad-4954-b216-305f67b793d7"
      },
      "execution_count": null,
      "outputs": [
        {
          "output_type": "execute_result",
          "data": {
            "text/plain": [
              "tensor([[0., 0., 0.],\n",
              "        [0., 0., 0.],\n",
              "        [0., 0., 0.]])"
            ]
          },
          "metadata": {},
          "execution_count": 54
        }
      ]
    },
    {
      "cell_type": "code",
      "source": [
        "zeros = torch.zeros(size=(224,224,3))\n",
        "zeros.shape, zeros.ndim"
      ],
      "metadata": {
        "colab": {
          "base_uri": "https://localhost:8080/"
        },
        "id": "XPbdKa3UEDMb",
        "outputId": "39706965-a204-4109-f6ba-f19fada544bd"
      },
      "execution_count": null,
      "outputs": [
        {
          "output_type": "execute_result",
          "data": {
            "text/plain": [
              "(torch.Size([224, 224, 3]), 3)"
            ]
          },
          "metadata": {},
          "execution_count": 55
        }
      ]
    },
    {
      "cell_type": "code",
      "source": [
        "ones = torch.ones(size=(2,3))"
      ],
      "metadata": {
        "id": "5estG3SCEMy9"
      },
      "execution_count": null,
      "outputs": []
    },
    {
      "cell_type": "markdown",
      "source": [
        "## Creating a range of tensors and tensors-like"
      ],
      "metadata": {
        "id": "a36k-NqVEexr"
      }
    },
    {
      "cell_type": "code",
      "source": [
        "# torch.range(0,10) better not to use\n",
        "ten_range = torch.arange(0,10)"
      ],
      "metadata": {
        "id": "mdfnKOTgEoeN"
      },
      "execution_count": null,
      "outputs": []
    },
    {
      "cell_type": "code",
      "source": [
        "torch.arange(1000,0,-7) # start , stop , step"
      ],
      "metadata": {
        "colab": {
          "base_uri": "https://localhost:8080/"
        },
        "id": "lV2cuO6KEysU",
        "outputId": "a3bf73b8-696e-4d82-ea60-ef1b8e14baf1"
      },
      "execution_count": null,
      "outputs": [
        {
          "output_type": "execute_result",
          "data": {
            "text/plain": [
              "tensor([1000,  993,  986,  979,  972,  965,  958,  951,  944,  937,  930,  923,\n",
              "         916,  909,  902,  895,  888,  881,  874,  867,  860,  853,  846,  839,\n",
              "         832,  825,  818,  811,  804,  797,  790,  783,  776,  769,  762,  755,\n",
              "         748,  741,  734,  727,  720,  713,  706,  699,  692,  685,  678,  671,\n",
              "         664,  657,  650,  643,  636,  629,  622,  615,  608,  601,  594,  587,\n",
              "         580,  573,  566,  559,  552,  545,  538,  531,  524,  517,  510,  503,\n",
              "         496,  489,  482,  475,  468,  461,  454,  447,  440,  433,  426,  419,\n",
              "         412,  405,  398,  391,  384,  377,  370,  363,  356,  349,  342,  335,\n",
              "         328,  321,  314,  307,  300,  293,  286,  279,  272,  265,  258,  251,\n",
              "         244,  237,  230,  223,  216,  209,  202,  195,  188,  181,  174,  167,\n",
              "         160,  153,  146,  139,  132,  125,  118,  111,  104,   97,   90,   83,\n",
              "          76,   69,   62,   55,   48,   41,   34,   27,   20,   13,    6])"
            ]
          },
          "metadata": {},
          "execution_count": 64
        }
      ]
    },
    {
      "cell_type": "code",
      "source": [
        "# Creating a tensor-like\n",
        "ten_zeros = torch.zeros_like(input=ten_range)\n",
        "ten_zeros"
      ],
      "metadata": {
        "colab": {
          "base_uri": "https://localhost:8080/"
        },
        "id": "a1Yctx9YFZ30",
        "outputId": "e90d75cb-09df-4fca-cd06-a6cca87b008e"
      },
      "execution_count": null,
      "outputs": [
        {
          "output_type": "execute_result",
          "data": {
            "text/plain": [
              "tensor([0, 0, 0, 0, 0, 0, 0, 0, 0, 0])"
            ]
          },
          "metadata": {},
          "execution_count": 67
        }
      ]
    },
    {
      "cell_type": "code",
      "source": [
        "ten_ones = torch.ones_like(ten_range)\n",
        "ten_ones"
      ],
      "metadata": {
        "colab": {
          "base_uri": "https://localhost:8080/"
        },
        "id": "z6mnb6nwGLVE",
        "outputId": "7881f188-ce19-419a-9417-49ac8d4fde7a"
      },
      "execution_count": null,
      "outputs": [
        {
          "output_type": "execute_result",
          "data": {
            "text/plain": [
              "tensor([1, 1, 1, 1, 1, 1, 1, 1, 1, 1])"
            ]
          },
          "metadata": {},
          "execution_count": 68
        }
      ]
    },
    {
      "cell_type": "markdown",
      "source": [
        "## Tensor Data types\n",
        "\n",
        "*Note:* The big 3 error in PyTorch deep learning\n",
        "1. Tensors not in the right data type. `programming problem`\n",
        "2. Tensors not in the right shape. `Linear Algebra problem`\n",
        "3. Tensors not in the right device. `PyTorch problem`"
      ],
      "metadata": {
        "id": "Ht8bDiSjGYVz"
      }
    },
    {
      "cell_type": "code",
      "source": [
        "float_32_tensor = torch.tensor([1.0, 2.0, 3.0],\n",
        "                               dtype = None, # torch.float32,16,64 or torch.int16,32,64 etc\n",
        "                               device = None, # \"cuda\" or \"cpu\",  what device is your tensor on\n",
        "                               requires_grad = False) # whether or not to track gradients with this tensors operations\n"
      ],
      "metadata": {
        "colab": {
          "base_uri": "https://localhost:8080/"
        },
        "id": "5k9tQ2rfGhDs",
        "outputId": "38011950-1ecf-458a-ca6f-3f112f5a3f3b"
      },
      "execution_count": null,
      "outputs": [
        {
          "output_type": "execute_result",
          "data": {
            "text/plain": [
              "torch.float32"
            ]
          },
          "metadata": {},
          "execution_count": 75
        }
      ]
    },
    {
      "cell_type": "code",
      "source": [
        "# default data type is float32, default device is 'cpu', default grad is False\n",
        "float_32_tensor.dtype, float_32_tensor.device , float_32_tensor.requires_grad"
      ],
      "metadata": {
        "colab": {
          "base_uri": "https://localhost:8080/"
        },
        "id": "y68SaMohG9xU",
        "outputId": "009d039e-8266-4895-9050-9af50038ad3d"
      },
      "execution_count": null,
      "outputs": [
        {
          "output_type": "execute_result",
          "data": {
            "text/plain": [
              "(torch.float32, device(type='cpu'), False)"
            ]
          },
          "metadata": {},
          "execution_count": 78
        }
      ]
    },
    {
      "cell_type": "code",
      "source": [
        "torch.tensor([1,2,3],dtype=torch.bool) * torch.tensor([1,2,3],dtype=torch.float32)"
      ],
      "metadata": {
        "colab": {
          "base_uri": "https://localhost:8080/"
        },
        "id": "0LmE61huHCDz",
        "outputId": "2a410033-e102-4926-ca29-7edaf60b9f59"
      },
      "execution_count": null,
      "outputs": [
        {
          "output_type": "execute_result",
          "data": {
            "text/plain": [
              "tensor([1., 2., 3.])"
            ]
          },
          "metadata": {},
          "execution_count": 86
        }
      ]
    },
    {
      "cell_type": "code",
      "source": [
        "# torch.tensor([1,2,3],device = 'cpu') * torch.tensor([2,3,4], device='cuda') error"
      ],
      "metadata": {
        "id": "6p1JbUY8J9PU"
      },
      "execution_count": null,
      "outputs": []
    },
    {
      "cell_type": "code",
      "source": [
        "test_tensor = torch.tensor([1,2,3],dtype=torch.float32)\n",
        "test_tensor.device, test_tensor"
      ],
      "metadata": {
        "colab": {
          "base_uri": "https://localhost:8080/"
        },
        "id": "hDHzcMFdKDTc",
        "outputId": "0bb2e45d-09f9-438f-fb32-f7344fb20e30"
      },
      "execution_count": null,
      "outputs": [
        {
          "output_type": "execute_result",
          "data": {
            "text/plain": [
              "(device(type='cpu'), tensor([1., 2., 3.]))"
            ]
          },
          "metadata": {},
          "execution_count": 94
        }
      ]
    },
    {
      "cell_type": "code",
      "source": [
        "test_tensor = test_tensor.to('cuda').requires_grad_(True) # change the device and grad after creating the tensor\n",
        "test_tensor"
      ],
      "metadata": {
        "colab": {
          "base_uri": "https://localhost:8080/"
        },
        "id": "lv9Q_HJyMh8E",
        "outputId": "3d10d29c-172a-4250-fc10-a8bfe661b4e7"
      },
      "execution_count": null,
      "outputs": [
        {
          "output_type": "execute_result",
          "data": {
            "text/plain": [
              "tensor([1., 2., 3.], device='cuda:0', requires_grad=True)"
            ]
          },
          "metadata": {},
          "execution_count": 96
        }
      ]
    },
    {
      "cell_type": "markdown",
      "source": [
        "## Manipulting Tensors (Tensors operations)\n",
        "\n",
        "* additon ` + 10` element wise addition | ```tourch.add(tensor,10)``` | ```tensor.add(10)```\n",
        "* subtraction ` - 10` element wise subtraction  ```tourch.sub(tensor,10)``` | ```tensor.sub(10)```\n",
        "* multiplication (element-wise) ` * 10` |  ```tourch.mul(tensor,10)``` |  ```tensor.mul(10)```\n",
        "* division ` / 10 ` |  ```tourch.div(tensor,10)``` |  ```tensor.div(10)```\n",
        "* matrix multiplication"
      ],
      "metadata": {
        "id": "Ep7hubkyMlPc"
      }
    },
    {
      "cell_type": "code",
      "source": [
        "t = torch.tensor([1,2,3])\n",
        "torch.div(t,10)"
      ],
      "metadata": {
        "colab": {
          "base_uri": "https://localhost:8080/"
        },
        "id": "_ArYaS2wOR8t",
        "outputId": "69e8cab2-c68c-4618-8454-af8574e49e03"
      },
      "execution_count": null,
      "outputs": [
        {
          "output_type": "execute_result",
          "data": {
            "text/plain": [
              "tensor([0.1000, 0.2000, 0.3000])"
            ]
          },
          "metadata": {},
          "execution_count": 103
        }
      ]
    },
    {
      "cell_type": "code",
      "source": [
        "t.div(3)"
      ],
      "metadata": {
        "colab": {
          "base_uri": "https://localhost:8080/"
        },
        "id": "zzZVcustOXGV",
        "outputId": "41b42ad8-6a34-49ad-c93a-50a7bc6c9fda"
      },
      "execution_count": null,
      "outputs": [
        {
          "output_type": "execute_result",
          "data": {
            "text/plain": [
              "tensor([0.3333, 0.6667, 1.0000])"
            ]
          },
          "metadata": {},
          "execution_count": 104
        }
      ]
    },
    {
      "cell_type": "markdown",
      "source": [
        "### MATRIX multiplication"
      ],
      "metadata": {
        "id": "EtLd9bBAOiJj"
      }
    },
    {
      "cell_type": "code",
      "source": [
        "A = torch.arange(1,10).reshape(3,3)\n",
        "B = torch.arange(1,7).reshape(3,2)\n",
        "A.shape,B.shape # you can perform A * B matmul\n"
      ],
      "metadata": {
        "colab": {
          "base_uri": "https://localhost:8080/"
        },
        "id": "2i4ZSc0P0Yj6",
        "outputId": "1c8f5a0c-b138-4982-f36f-1d5416d331de"
      },
      "execution_count": null,
      "outputs": [
        {
          "output_type": "execute_result",
          "data": {
            "text/plain": [
              "(torch.Size([3, 3]), torch.Size([3, 2]))"
            ]
          },
          "metadata": {},
          "execution_count": 10
        }
      ]
    },
    {
      "cell_type": "code",
      "source": [
        "torch.matmul(A,B) # or use torch.mm"
      ],
      "metadata": {
        "colab": {
          "base_uri": "https://localhost:8080/"
        },
        "id": "TKxFJnMv0lYe",
        "outputId": "04fb9d47-1965-433f-9e59-d3699bcf731d"
      },
      "execution_count": null,
      "outputs": [
        {
          "output_type": "execute_result",
          "data": {
            "text/plain": [
              "tensor([[ 22,  28],\n",
              "        [ 49,  64],\n",
              "        [ 76, 100]])"
            ]
          },
          "metadata": {},
          "execution_count": 11
        }
      ]
    },
    {
      "cell_type": "code",
      "source": [
        "tensor = torch.arange(1,1000000)"
      ],
      "metadata": {
        "id": "XecYcP-M083x"
      },
      "execution_count": null,
      "outputs": []
    },
    {
      "cell_type": "code",
      "source": [
        "%%time\n",
        "value = 0\n",
        "for i in tensor:\n",
        "  value += i*i\n",
        "print(value)"
      ],
      "metadata": {
        "colab": {
          "base_uri": "https://localhost:8080/"
        },
        "id": "xfHZ6G3Z1d2r",
        "outputId": "be590d48-e37c-4bf0-8dd1-f6abde4732a7"
      },
      "execution_count": null,
      "outputs": [
        {
          "output_type": "stream",
          "name": "stdout",
          "text": [
            "tensor(333332833333500000)\n",
            "CPU times: user 6.14 s, sys: 284 ms, total: 6.42 s\n",
            "Wall time: 6.42 s\n"
          ]
        }
      ]
    },
    {
      "cell_type": "code",
      "source": [
        "%%time\n",
        "torch.matmul(tensor,tensor)"
      ],
      "metadata": {
        "colab": {
          "base_uri": "https://localhost:8080/"
        },
        "id": "_sVs1rXC2mUx",
        "outputId": "74d0be5e-442d-44f8-8479-da706c700b65"
      },
      "execution_count": null,
      "outputs": [
        {
          "output_type": "stream",
          "name": "stdout",
          "text": [
            "CPU times: user 1.56 ms, sys: 0 ns, total: 1.56 ms\n",
            "Wall time: 1.56 ms\n"
          ]
        },
        {
          "output_type": "execute_result",
          "data": {
            "text/plain": [
              "tensor(333332833333500000)"
            ]
          },
          "metadata": {},
          "execution_count": 26
        }
      ]
    },
    {
      "cell_type": "code",
      "source": [],
      "metadata": {
        "id": "XVXsaJ6K2qjh"
      },
      "execution_count": null,
      "outputs": []
    },
    {
      "cell_type": "markdown",
      "source": [
        "##Tensor Aggregation  (**min,max...etc**)\n",
        "\n",
        "`torch.min(tensor), torch.max(tensor), torch.sum(tensor)` \\\\\n",
        "`torch.mean(tensor)` **This need to be float or complex datatype**\n",
        "\n",
        "`torch.argmin(), torch.argmax()` ** this is used to find the index of tha max or min value**"
      ],
      "metadata": {
        "id": "LbQpeJXz7zv5"
      }
    },
    {
      "cell_type": "markdown",
      "source": [
        "## Resahping, stacking, squeezing, unsqueesing tensors\n",
        "\n",
        "* Reshaping : reshapes a tensor to defined shape.\n",
        "* View : Return a view of a tensor of certain shape but keep the same memory as the original tensor.\n",
        "* Stacking : concatenate multiple tensors `torch.hstack(), torch.vstack(), torch.stack()`\n",
        "* Squeeze : removes all `1` dimensions from a tensor.\n",
        "* Unsqueeze : add `1` dimenstio to a tensor.\n",
        "* Permute : Return a view of the input with dimensions permuted (swapped) in certain way."
      ],
      "metadata": {
        "id": "tJHIJJ1h83qh"
      }
    },
    {
      "cell_type": "code",
      "source": [
        "import torch\n",
        "x = torch.arange(1.,10.)\n",
        "x, x.shape"
      ],
      "metadata": {
        "colab": {
          "base_uri": "https://localhost:8080/"
        },
        "id": "qFstiJep-DCt",
        "outputId": "cbc904f7-65aa-4252-e519-cf3cb22a06fb"
      },
      "execution_count": null,
      "outputs": [
        {
          "output_type": "execute_result",
          "data": {
            "text/plain": [
              "(tensor([1., 2., 3., 4., 5., 6., 7., 8., 9.]), torch.Size([9]))"
            ]
          },
          "metadata": {},
          "execution_count": 9
        }
      ]
    },
    {
      "cell_type": "code",
      "source": [
        "# reshape\n",
        "reshaped_x = x.reshape(3,3) # 3,3 or 1,9 or 9,1 works for this matrix\n",
        "reshaped_x"
      ],
      "metadata": {
        "colab": {
          "base_uri": "https://localhost:8080/"
        },
        "id": "dgwozlMJAqXm",
        "outputId": "b7ce1303-a896-4a5b-d970-b8447c2e7ce0"
      },
      "execution_count": null,
      "outputs": [
        {
          "output_type": "execute_result",
          "data": {
            "text/plain": [
              "tensor([[1., 2., 3.],\n",
              "        [4., 5., 6.],\n",
              "        [7., 8., 9.]])"
            ]
          },
          "metadata": {},
          "execution_count": 4
        }
      ]
    },
    {
      "cell_type": "code",
      "source": [
        "view_x = x.view(3,3) # this return a copy of x without affecting the original tensor\n",
        "view_x # changing view_x -> changing x, beacuase it's like object pointers but with different view"
      ],
      "metadata": {
        "colab": {
          "base_uri": "https://localhost:8080/"
        },
        "id": "cOHsSa75A2fG",
        "outputId": "c7beb2d6-71f7-4a52-9b14-5894629db25d"
      },
      "execution_count": null,
      "outputs": [
        {
          "output_type": "execute_result",
          "data": {
            "text/plain": [
              "tensor([[1., 2., 3.],\n",
              "        [4., 5., 6.],\n",
              "        [7., 8., 9.]])"
            ]
          },
          "metadata": {},
          "execution_count": 6
        }
      ]
    },
    {
      "cell_type": "code",
      "source": [
        "x.view(3,3)"
      ],
      "metadata": {
        "colab": {
          "base_uri": "https://localhost:8080/"
        },
        "id": "YLF4G7U4BISv",
        "outputId": "9b27b9a0-124e-466b-f919-9b98f3a8ef31"
      },
      "execution_count": null,
      "outputs": [
        {
          "output_type": "execute_result",
          "data": {
            "text/plain": [
              "tensor([[1., 2., 3.],\n",
              "        [4., 5., 6.],\n",
              "        [7., 8., 9.]])"
            ]
          },
          "metadata": {},
          "execution_count": 10
        }
      ]
    },
    {
      "cell_type": "code",
      "source": [
        "# stack tensors on top of each other\n",
        "stacked_x = torch.stack([x,x,x,x],dim=0)\n",
        "stacked_x"
      ],
      "metadata": {
        "colab": {
          "base_uri": "https://localhost:8080/"
        },
        "id": "pZwxmWVCBPKk",
        "outputId": "ab058cc4-2b98-486d-d1ed-ce2bce262891"
      },
      "execution_count": null,
      "outputs": [
        {
          "output_type": "execute_result",
          "data": {
            "text/plain": [
              "tensor([[1., 2., 3., 4., 5., 6., 7., 8., 9.],\n",
              "        [1., 2., 3., 4., 5., 6., 7., 8., 9.],\n",
              "        [1., 2., 3., 4., 5., 6., 7., 8., 9.],\n",
              "        [1., 2., 3., 4., 5., 6., 7., 8., 9.]])"
            ]
          },
          "metadata": {},
          "execution_count": 23
        }
      ]
    },
    {
      "cell_type": "code",
      "source": [
        "stacked_x = torch.stack([x,x,x,x],dim=1) # similar to previous example but stacked_x.T\n",
        "stacked_x"
      ],
      "metadata": {
        "colab": {
          "base_uri": "https://localhost:8080/"
        },
        "id": "3WylcfUOBP2P",
        "outputId": "e7582cd2-c7f8-4e9a-f7bb-71a745ebaebd"
      },
      "execution_count": null,
      "outputs": [
        {
          "output_type": "execute_result",
          "data": {
            "text/plain": [
              "tensor([[1., 1., 1., 1.],\n",
              "        [2., 2., 2., 2.],\n",
              "        [3., 3., 3., 3.],\n",
              "        [4., 4., 4., 4.],\n",
              "        [5., 5., 5., 5.],\n",
              "        [6., 6., 6., 6.],\n",
              "        [7., 7., 7., 7.],\n",
              "        [8., 8., 8., 8.],\n",
              "        [9., 9., 9., 9.]])"
            ]
          },
          "metadata": {},
          "execution_count": 21
        }
      ]
    },
    {
      "cell_type": "code",
      "source": [
        "x, x.shape"
      ],
      "metadata": {
        "colab": {
          "base_uri": "https://localhost:8080/"
        },
        "id": "QGM5GxjACamk",
        "outputId": "a1e9cc05-d444-4c41-d033-26dc8801e574"
      },
      "execution_count": null,
      "outputs": [
        {
          "output_type": "execute_result",
          "data": {
            "text/plain": [
              "(tensor([1., 2., 3., 4., 5., 6., 7., 8., 9.]), torch.Size([9]))"
            ]
          },
          "metadata": {},
          "execution_count": 33
        }
      ]
    },
    {
      "cell_type": "code",
      "source": [
        "x.unsqueeze(dim=0) , x.unsqueeze(dim=0).shape"
      ],
      "metadata": {
        "colab": {
          "base_uri": "https://localhost:8080/"
        },
        "id": "ubiCwpF0C0eV",
        "outputId": "276bbf93-b611-4499-a5c9-0bd224b53e6c"
      },
      "execution_count": null,
      "outputs": [
        {
          "output_type": "execute_result",
          "data": {
            "text/plain": [
              "(tensor([[1., 2., 3., 4., 5., 6., 7., 8., 9.]]), torch.Size([1, 9]))"
            ]
          },
          "metadata": {},
          "execution_count": 34
        }
      ]
    },
    {
      "cell_type": "code",
      "source": [
        "x.unsqueeze(dim=1), x.unsqueeze(dim=1).shape"
      ],
      "metadata": {
        "colab": {
          "base_uri": "https://localhost:8080/"
        },
        "id": "5j5zW1cNDDfF",
        "outputId": "cea40937-3d23-41cf-9e17-a4e2a6eb6718"
      },
      "execution_count": null,
      "outputs": [
        {
          "output_type": "execute_result",
          "data": {
            "text/plain": [
              "(tensor([[1.],\n",
              "         [2.],\n",
              "         [3.],\n",
              "         [4.],\n",
              "         [5.],\n",
              "         [6.],\n",
              "         [7.],\n",
              "         [8.],\n",
              "         [9.]]),\n",
              " torch.Size([9, 1]))"
            ]
          },
          "metadata": {},
          "execution_count": 35
        }
      ]
    },
    {
      "cell_type": "code",
      "source": [
        "# permute : Return a view of the original tensor but with rearragning the dimensions in specified way\n",
        "x_original = torch.rand(size=(224,224,3)) # [height, width, color_channles]\n",
        "\n",
        "x_permuted = x_original.permute(2,0,1) # [color_channles, height, width]\n",
        "x_original.shape, x_permuted.shape # remember they are sharing the same memroy object -> any changes on x_original or x_permuted will affect the other one"
      ],
      "metadata": {
        "colab": {
          "base_uri": "https://localhost:8080/"
        },
        "id": "FQmCDhRbDFsc",
        "outputId": "26434489-2bf9-42b8-ca5e-db0ca53f3532"
      },
      "execution_count": null,
      "outputs": [
        {
          "output_type": "execute_result",
          "data": {
            "text/plain": [
              "(torch.Size([224, 224, 3]), torch.Size([3, 224, 224]))"
            ]
          },
          "metadata": {},
          "execution_count": 36
        }
      ]
    },
    {
      "cell_type": "markdown",
      "source": [
        "## Indexing (selecting data)\n",
        "\n",
        "Indexing with PyTorch is similar to indexing with NumPy"
      ],
      "metadata": {
        "id": "IvQG4i1-Gtpd"
      }
    },
    {
      "cell_type": "code",
      "source": [
        "x = torch.arange(1,10).reshape(1,3,3)\n",
        "x, x.shape, x.ndim"
      ],
      "metadata": {
        "colab": {
          "base_uri": "https://localhost:8080/"
        },
        "id": "5c5Kq041G9aj",
        "outputId": "c6d7ea38-8342-4f23-9f6a-8020151842b8"
      },
      "execution_count": null,
      "outputs": [
        {
          "output_type": "execute_result",
          "data": {
            "text/plain": [
              "(tensor([[[1, 2, 3],\n",
              "          [4, 5, 6],\n",
              "          [7, 8, 9]]]),\n",
              " torch.Size([1, 3, 3]),\n",
              " 3)"
            ]
          },
          "metadata": {},
          "execution_count": 42
        }
      ]
    },
    {
      "cell_type": "code",
      "source": [
        "x[0]"
      ],
      "metadata": {
        "colab": {
          "base_uri": "https://localhost:8080/"
        },
        "id": "fiYjAUzxHTiq",
        "outputId": "3ed4d297-9012-4048-91a9-8210b48c034e"
      },
      "execution_count": null,
      "outputs": [
        {
          "output_type": "execute_result",
          "data": {
            "text/plain": [
              "tensor([[1, 2, 3],\n",
              "        [4, 5, 6],\n",
              "        [7, 8, 9]])"
            ]
          },
          "metadata": {},
          "execution_count": 38
        }
      ]
    },
    {
      "cell_type": "code",
      "source": [
        "x[0][0] , x[0][1], x[0][2] # == x[0,0] , x[0,1] , x[0,2]"
      ],
      "metadata": {
        "colab": {
          "base_uri": "https://localhost:8080/"
        },
        "id": "oebq7bPKHph6",
        "outputId": "1e4738f1-fca2-4198-d443-86f25c1bb680"
      },
      "execution_count": null,
      "outputs": [
        {
          "output_type": "execute_result",
          "data": {
            "text/plain": [
              "(tensor([1, 2, 3]), tensor([4, 5, 6]), tensor([7, 8, 9]))"
            ]
          },
          "metadata": {},
          "execution_count": 40
        }
      ]
    },
    {
      "cell_type": "code",
      "source": [
        "x[0,0,0]"
      ],
      "metadata": {
        "colab": {
          "base_uri": "https://localhost:8080/"
        },
        "id": "EwEVin9THtNR",
        "outputId": "09a02b47-867f-4c7f-958e-93378ac612ff"
      },
      "execution_count": null,
      "outputs": [
        {
          "output_type": "execute_result",
          "data": {
            "text/plain": [
              "tensor(1)"
            ]
          },
          "metadata": {},
          "execution_count": 43
        }
      ]
    },
    {
      "cell_type": "code",
      "source": [
        "# Index to return 9\n",
        "print(x[0,2,2])\n",
        "\n",
        "# Index to return [3,6,9]\n",
        "print(x[:,:,2])\n"
      ],
      "metadata": {
        "colab": {
          "base_uri": "https://localhost:8080/"
        },
        "id": "GTt1fHOaHy2p",
        "outputId": "e13aa662-51fc-4328-9592-e81a5ffb45fc"
      },
      "execution_count": null,
      "outputs": [
        {
          "output_type": "stream",
          "name": "stdout",
          "text": [
            "tensor(9)\n",
            "tensor([[3, 6, 9]])\n"
          ]
        }
      ]
    },
    {
      "cell_type": "markdown",
      "source": [
        "## PyTorch and NumPy\n",
        "\n",
        "* Data in NumPy to PyTorch -> `torch.from_numpy(ndarray)`\n",
        "* PyTorch tenosr to NumPy -> `torch.Tensor.numpy()`"
      ],
      "metadata": {
        "id": "h_mkPyEKJtC2"
      }
    },
    {
      "cell_type": "code",
      "source": [
        "import torch\n",
        "import numpy as np\n",
        "\n",
        "array = np.arange(1.0,10.0)\n",
        "tensor = torch.from_numpy(array) # when converting from numpy -> pytorch, pytorch reflects numpy's default datatype of float64 unless specified otherwise\n",
        "print(array)\n",
        "print(tensor)"
      ],
      "metadata": {
        "colab": {
          "base_uri": "https://localhost:8080/"
        },
        "id": "5aXP3mYhJ9p4",
        "outputId": "6238dc05-2ea3-4f52-a009-d4dc75f51df7"
      },
      "execution_count": null,
      "outputs": [
        {
          "output_type": "stream",
          "name": "stdout",
          "text": [
            "[1. 2. 3. 4. 5. 6. 7. 8. 9.]\n",
            "tensor([1., 2., 3., 4., 5., 6., 7., 8., 9.], dtype=torch.float64)\n"
          ]
        }
      ]
    },
    {
      "cell_type": "code",
      "source": [
        "array = array + 1"
      ],
      "metadata": {
        "id": "gLlhQzk_KkeJ"
      },
      "execution_count": null,
      "outputs": []
    },
    {
      "cell_type": "code",
      "source": [
        "print(array)\n",
        "print(tensor)"
      ],
      "metadata": {
        "colab": {
          "base_uri": "https://localhost:8080/"
        },
        "id": "MWC9pLDdK4KI",
        "outputId": "95c2a2bb-fc15-446c-fe83-284c20b134a5"
      },
      "execution_count": null,
      "outputs": [
        {
          "output_type": "stream",
          "name": "stdout",
          "text": [
            "[ 2.  3.  4.  5.  6.  7.  8.  9. 10.]\n",
            "tensor([1., 2., 3., 4., 5., 6., 7., 8., 9.], dtype=torch.float64)\n"
          ]
        }
      ]
    },
    {
      "cell_type": "code",
      "source": [
        "tensor = torch.ones(7)\n",
        "array = tensor.numpy() # or torch.Tensor.numpy(tensor)\n",
        "array"
      ],
      "metadata": {
        "colab": {
          "base_uri": "https://localhost:8080/"
        },
        "id": "IX5mMzx_LnBg",
        "outputId": "7ceeeeca-a7d6-459f-97f6-148c4dd68310"
      },
      "execution_count": null,
      "outputs": [
        {
          "output_type": "execute_result",
          "data": {
            "text/plain": [
              "array([1., 1., 1., 1., 1., 1., 1.], dtype=float32)"
            ]
          },
          "metadata": {},
          "execution_count": 64
        }
      ]
    },
    {
      "cell_type": "code",
      "source": [],
      "metadata": {
        "id": "2FBHAmohMB7R"
      },
      "execution_count": null,
      "outputs": []
    }
  ]
}